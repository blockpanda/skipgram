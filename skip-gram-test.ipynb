{
 "cells": [
  {
   "cell_type": "code",
   "execution_count": 2,
   "metadata": {},
   "outputs": [],
   "source": [
    "import warnings\n",
    "warnings.filterwarnings(\"ignore\")\n",
    "\n",
    "\n",
    "import numpy as np\n",
    "import torch\n",
    "from torch.optim import SGD \n",
    "from torch.autograd import Variable,profiler\n",
    "import torch.nn.functional as F\n"
   ]
  },
  {
   "cell_type": "code",
   "execution_count": 16,
   "metadata": {},
   "outputs": [],
   "source": [
    "#构建语料库\n",
    "corpus = ['he is king',\n",
    "          'she is a queen',\n",
    "          'he is a man',\n",
    "          'she is a woman',\n",
    "          'warsam is poland capital',\n",
    "          'berlin is germany capital',\n",
    "          'paris is france capital',\n",
    "]"
   ]
  },
  {
   "cell_type": "code",
   "execution_count": 17,
   "metadata": {},
   "outputs": [
    {
     "data": {
      "text/plain": [
       "['he is king',\n",
       " 'she is a queen',\n",
       " 'he is a man',\n",
       " 'she is a woman',\n",
       " 'warsam is poland capital',\n",
       " 'berlin is germany capital',\n",
       " 'paris is france capital']"
      ]
     },
     "execution_count": 17,
     "metadata": {},
     "output_type": "execute_result"
    }
   ],
   "source": [
    "corpus"
   ]
  },
  {
   "cell_type": "code",
   "execution_count": 18,
   "metadata": {},
   "outputs": [],
   "source": [
    "#构建字典\n",
    "words = []\n",
    "for sen in corpus: #对单词进行遍历，抽出单词组成两个字典\n",
    "    for word in sen.split():\n",
    "        if word not in words:\n",
    "            words.append(word)\n",
    "word2id = {w:idx for (idx,w) in enumerate(words)}  #列表生成式\n",
    "id2word = {idx:w for (idx,w) in enumerate(words)}\n",
    "vocab_size = len(word2id)"
   ]
  },
  {
   "cell_type": "code",
   "execution_count": 25,
   "metadata": {},
   "outputs": [
    {
     "data": {
      "text/plain": [
       "{'he': 0,\n",
       " 'is': 1,\n",
       " 'king': 2,\n",
       " 'she': 3,\n",
       " 'a': 4,\n",
       " 'queen': 5,\n",
       " 'man': 6,\n",
       " 'woman': 7,\n",
       " 'warsam': 8,\n",
       " 'poland': 9,\n",
       " 'capital': 10,\n",
       " 'berlin': 11,\n",
       " 'germany': 12,\n",
       " 'paris': 13,\n",
       " 'france': 14}"
      ]
     },
     "execution_count": 25,
     "metadata": {},
     "output_type": "execute_result"
    }
   ],
   "source": [
    "word2id"
   ]
  },
  {
   "cell_type": "code",
   "execution_count": 26,
   "metadata": {},
   "outputs": [
    {
     "data": {
      "text/plain": [
       "{0: 'he',\n",
       " 1: 'is',\n",
       " 2: 'king',\n",
       " 3: 'she',\n",
       " 4: 'a',\n",
       " 5: 'queen',\n",
       " 6: 'man',\n",
       " 7: 'woman',\n",
       " 8: 'warsam',\n",
       " 9: 'poland',\n",
       " 10: 'capital',\n",
       " 11: 'berlin',\n",
       " 12: 'germany',\n",
       " 13: 'paris',\n",
       " 14: 'france'}"
      ]
     },
     "execution_count": 26,
     "metadata": {},
     "output_type": "execute_result"
    }
   ],
   "source": [
    "id2word"
   ]
  },
  {
   "cell_type": "code",
   "execution_count": 19,
   "metadata": {},
   "outputs": [
    {
     "data": {
      "text/plain": [
       "15"
      ]
     },
     "execution_count": 19,
     "metadata": {},
     "output_type": "execute_result"
    }
   ],
   "source": [
    "vocab_size   #输出字典长度"
   ]
  },
  {
   "cell_type": "code",
   "execution_count": null,
   "metadata": {},
   "outputs": [],
   "source": [
    "#构造ONE-HOt独热编码\n",
    "def get_word_one_hot(word):\n",
    "    word_one_hot = np.zeros(vocab_size)\n",
    "    word_one_hot[word2id[word]] = 1\n",
    "    return word_one_hot\n",
    "    "
   ]
  },
  {
   "cell_type": "code",
   "execution_count": 22,
   "metadata": {},
   "outputs": [],
   "source": [
    "#两个参数two params\n",
    "embedding_dims = 10 #映射的维度，每个单词是10维组成的向量\n",
    "window_size =2  #上下文的窗口是2。当前input word的一侧（左边或右边）选取词的数量"
   ]
  },
  {
   "cell_type": "code",
   "execution_count": 29,
   "metadata": {},
   "outputs": [],
   "source": [
    "#准备数据\n",
    "def train_generator():  #generator生成器，遇到yield时返回yield的数据\n",
    "    for sen in corpus:\n",
    "        words = sen.split()\n",
    "        indices = [word2id[w] for w in words] #句子转化为序列\n",
    "        for i in range(len(indices)):   #循环序列，以每个单词为中心词找上下文\n",
    "            for w in range(-window_size,window_size+1):\n",
    "                context_idx = i + w\n",
    "                if context_idx < 0 or context_idx >= len(indices) or i == context_idx:\n",
    "                    continue\n",
    "                center_vec_one_hot = np.zeros(vocab_size)\n",
    "                center_vec_one_hot[indices[i]] = 1  #当前词的独热编码\n",
    "                contex_idx = indices[context_idx]\n",
    "                yield center_vec_one_hot,context_idx"
   ]
  },
  {
   "cell_type": "code",
   "execution_count": 24,
   "metadata": {},
   "outputs": [
    {
     "name": "stdout",
     "output_type": "stream",
     "text": [
      "4.938869700287327\n",
      "1.054156785661524\n",
      "1.0034053777203416\n",
      "0.9953099624677137\n",
      "0.991919632210876\n",
      "0.9897981746630236\n",
      "0.9881725031318087\n",
      "0.9867979288101196\n",
      "0.9855795087236346\n",
      "0.9844744991172444\n",
      "0.9834607261599917\n",
      "0.9825250696052205\n"
     ]
    }
   ],
   "source": [
    "#torch\n",
    "#随机生成w1,w2两个矩阵，维度由字典大小来决定。requires_grad=True需要更新\n",
    "w1=Variable(torch.randn(embedding_dims,vocab_size).float(),requires_grad=True)\n",
    "w2=Variable(torch.randn(vocab_size,embedding_dims).float(),requires_grad=True)\n",
    "\n",
    "for epo in range(600):  #epo做语料库上的迭代\n",
    "    avg_loss = 0\n",
    "    samples = 0\n",
    "    for data,target in train_generator():\n",
    "        x=Variable(torch.from_numpy(data)).float()\n",
    "        y_true=Variable(torch.from_numpy(np.array([target])).long())\n",
    "        samples += len(y_true)\n",
    "        a1=torch.matmul(w1,x)\n",
    "        a2=torch.matmul(w2,a1)\n",
    "        log_softmax=F.log_softmax(a2,dim=0)\n",
    "\n",
    "\n",
    "        network_pred=F.softmax(log_softmax,dim=0)\n",
    "        loss=F.nll_loss(log_softmax.view(1,-1),y_true)\n",
    "        avg_loss += loss.item()\n",
    "        loss.backward()  #loss回传\n",
    "\n",
    "        w1.data -= 0.01*w1.grad.data   #梯度   0.01是学习率\n",
    "        w2.data -= 0.01*w2.grad.data\n",
    "\n",
    "        w1.grad.data.zero_()  #梯度清0\n",
    "        w2.grad.data.zero_()\n",
    "\n",
    "    if epo %50 == 0:\n",
    "        print(avg_loss / samples)  #所有的loss除以samples\n",
    "\n",
    "\n",
    "\n"
   ]
  }
 ],
 "metadata": {
  "kernelspec": {
   "display_name": "Python 3.9.13 ('dl')",
   "language": "python",
   "name": "python3"
  },
  "language_info": {
   "codemirror_mode": {
    "name": "ipython",
    "version": 3
   },
   "file_extension": ".py",
   "mimetype": "text/x-python",
   "name": "python",
   "nbconvert_exporter": "python",
   "pygments_lexer": "ipython3",
   "version": "3.9.13"
  },
  "orig_nbformat": 4,
  "vscode": {
   "interpreter": {
    "hash": "1401a5e83bce355e9f81865f4960702dc6cc7245833f24ce626bb26f0a1064ae"
   }
  }
 },
 "nbformat": 4,
 "nbformat_minor": 2
}
